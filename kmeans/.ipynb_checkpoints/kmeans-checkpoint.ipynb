{
 "cells": [
  {
   "cell_type": "code",
   "execution_count": null,
   "metadata": {},
   "outputs": [],
   "source": [
    "# K-means\n",
    "\n",
    "## 0. "
   ]
  },
  {
   "cell_type": "code",
   "execution_count": 160,
   "metadata": {},
   "outputs": [],
   "source": [
    "import math, numpy as np\n",
    "from numpy import random\n",
    "from scipy.stats import pearsonr\n",
    "\n",
    "def kmeans(X, k, tp='2LP') :\n",
    "    THRESHOLD = 1E-5\n",
    "    newMiu = [random.uniform(min(dim), max(dim), k) for dim in X]; miu = np.zeros([len(X)-1, k])\n",
    "    groups = [0]*len(X[0])\n",
    "    while max([dist([dim[i] for dim in miu],[dim[i] for dim in newMiu], tp) for i in range(k)]) > THRESHOLD :\n",
    "        minDists = [float('inf')]*len(X[0])\n",
    "        for i in range(len(X[0])) :\n",
    "            for j in range(k) :\n",
    "                d = dist([dim[i] for dim in X], [dim[j] for dim in newMiu], tp)\n",
    "                if d < minDists[i] :\n",
    "                    minDists[i] = d\n",
    "                    groups[i] = j\n",
    "        miu = newMiu\n",
    "        newMiu = [[np.mean([dim[m] for m in range(len(X[0])) if groups[m] == j]) for j in range(k)] for dim in X]\n",
    "    return newMiu, groups\n",
    "\n",
    "def dist(X, Y, tp='2LP') :\n",
    "    if tp == '1LP' :\n",
    "        return sum([abs(i-j) for i,j in zip(X,Y)])\n",
    "    elif tp == '2LP' :\n",
    "        return math.sqrt(sum([(i-j)**2 for i,j in zip(X,Y)]))\n",
    "    elif tp == 'InfLP' :\n",
    "        return max([abs(i-j) for i,j in zip(X,Y)])\n",
    "    else :\n",
    "        return -1"
   ]
  },
  {
   "cell_type": "code",
   "execution_count": 161,
   "metadata": {
    "scrolled": false
   },
   "outputs": [
    {
     "data": {
      "image/png": "[encoded data removed]",
      "text/plain": [
       "<Figure size 432x288 with 1 Axes>"
      ]
     },
     "metadata": {
      "needs_background": "light"
     },
     "output_type": "display_data"
    }
   ],
   "source": [
    "%matplotlib inline\n",
    "from matplotlib import pyplot as plt\n",
    "from numpy import random\n",
    "\n",
    "# Uniformly generate random points\n",
    "SIZE = 100\n",
    "X = list(random.randn(SIZE//3) + 2) + list(random.randn(SIZE//3) + 2) + list(random.randn(SIZE//3) - 2)\n",
    "Y = list(random.randn(SIZE//3) + 2) + list(random.randn(SIZE//3) - 2) + list(random.randn(SIZE//3))\n",
    "\n",
    "# k-means\n",
    "GROUPS = 3\n",
    "miu, groups = kmeans([X, Y], GROUPS, '1LP')\n",
    "\n",
    "# Scatter\n",
    "plt.figure()\n",
    "for j in range(GROUPS) :\n",
    "    plt.scatter([p for i,p in enumerate(X) if groups[i] == j], [p for i,p in enumerate(Y) if groups[i] == j], \\\n",
    "                c=random.rand(3))\n",
    "_ = plt.scatter(miu[0], miu[1], c='red')"
   ]
  },
  {
   "cell_type": "code",
   "execution_count": 252,
   "metadata": {
    "scrolled": false
   },
   "outputs": [
    {
     "name": "stdout",
     "output_type": "stream",
     "text": [
      "Accuracy of iris categorization by k-means: 0.8933333333333333\n"
     ]
    }
   ],
   "source": [
    "# Using UCI database iris\n",
    "\n",
    "# read data\n",
    "labels = ['Iris-setosa', 'Iris-versicolor', 'Iris-virginica']\n",
    "FEATURES = 4; GROUPS = 3\n",
    "fi = open('../databases/iris/iris.data')\n",
    "X = []; tags = []\n",
    "for i in range(FEATURES) :\n",
    "    X.append([])\n",
    "for line in fi :\n",
    "    tmp = line.split(',')\n",
    "    for i in range(FEATURES) :\n",
    "        X[i].append(float(tmp[i]))\n",
    "    tags.append(labels.index(tmp[FEATURES].strip()))\n",
    "\n",
    "# kmeans\n",
    "_, groups = kmeans(X, GROUPS, '2LP')\n",
    "\n",
    "# scoring\n",
    "score = 0\n",
    "for i in range(GROUPS) :\n",
    "    tmp = sum([groups[j] == (tags[j]+i)%GROUPS for j in range(len(tags))])\n",
    "    if tmp > score :\n",
    "        score = tmp\n",
    "print('Accuracy of iris categorization by k-means:', score/len(tags))"
   ]
  }
 ],
 "metadata": {
  "kernelspec": {
   "display_name": "Python 3",
   "language": "python",
   "name": "python3"
  },
  "language_info": {
   "codemirror_mode": {
    "name": "ipython",
    "version": 3
   },
   "file_extension": ".py",
   "mimetype": "text/x-python",
   "name": "python",
   "nbconvert_exporter": "python",
   "pygments_lexer": "ipython3",
   "version": "3.6.6"
  }
 },
 "nbformat": 4,
 "nbformat_minor": 2
}
