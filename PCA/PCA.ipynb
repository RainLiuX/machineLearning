{
 "cells": [
  {
   "cell_type": "code",
   "execution_count": 2,
   "metadata": {},
   "outputs": [],
   "source": [
    "import numpy as np\n",
    "import math\n",
    "\n",
    "def pca(X, k, method=\"EVD\") :\n",
    "    # Centralize\n",
    "    X = np.array(X)\n",
    "    Xmean = np.mean(X, axis=1)\n",
    "    X = X - Xmean.T[:,np.newaxis]\n",
    "\n",
    "    n = X.shape[1]\n",
    "    d = X.shape[0]\n",
    "    if method == 'EVD' :\n",
    "        C = 1/(n-1) * np.matmul(X, X.T)    #covariance matrix\n",
    "        print(\"Covariance matrix done\")\n",
    "        e, U = np.linalg.eig(C)    #eigen value/vectors of C\n",
    "        print(\"Eigen vectors done\")\n",
    "        idx = e.argsort()[::-1]\n",
    "        U = U[:,idx[:k]].real    #sort eigen vectors by eig values\n",
    "        Y = np.matmul(U.T, X)    #compress by Y = U_dxk^T X\n",
    "        Xhat = np.matmul(U, Y)    #remap by Xhat = U_dxk Y\n",
    "        return X, Y, Xhat, U\n",
    "    elif method == 'SVD' :\n",
    "        D = 1/(d-1) * np.matmul(X.T, X)    #dot product matrix\n",
    "        er, V = np.linalg.eig(D)\n",
    "        idxr = er.argsort()[::-1]\n",
    "        V = V[:,idxr[:k]].real; er = er[idxr[:k]]    #right eigen matrix\n",
    "        S = np.diag([math.sqrt(abs(e)) for e in er])    #square root of eig values\n",
    "        Y = np.matmul(S, -V.T)    #compress by Y = S_kxk V_nxk^T\n",
    "        #C = 1/(m-1) * np.matmul(X, X.T)\n",
    "        #el, U = np.linalg.eig(C)\n",
    "        #idxl = el.argsort()[::-1]\n",
    "        #U = U[:,idx]\n",
    "        #Xhat = np.matmul(U[:,:D], Y)\n",
    "        return X, Y, None, None"
   ]
  },
  {
   "cell_type": "code",
   "execution_count": 6,
   "metadata": {},
   "outputs": [],
   "source": [
    "import numpy as np\n",
    "from matplotlib import pyplot as plt\n",
    "import math\n",
    "\n",
    "% matplotlib inline\n",
    "\n",
    "sigmas = [10, 2]\n",
    "theta = math.pi / 3\n",
    "d, m = 2, 10\n",
    "\n",
    "X = []\n",
    "for i in range(d) :\n",
    "    X.append(np.random.normal(0, sigmas[i], m))\n",
    "\n",
    "X = [ [ dim[i] for dim in X ] for i in range(m) ]\n",
    "X = [ [math.cos(theta)*ele[0]-math.sin(theta)*ele[1], math.sin(theta)*ele[0]+math.cos(theta)*ele[1]] for ele in X ]\n",
    "X = [ [ row[i] for row in X ] for i in range(d) ]"
   ]
  },
  {
   "cell_type": "code",
   "execution_count": 7,
   "metadata": {},
   "outputs": [
    {
     "name": "stdout",
     "output_type": "stream",
     "text": [
      "Covariance matrix done\n",
      "Eigen vectors done\n"
     ]
    },
    {
     "data": {
      "text/plain": [
       "<matplotlib.collections.PathCollection at 0x7f530eb06c88>"
      ]
     },
     "execution_count": 7,
     "metadata": {},
     "output_type": "execute_result"
    },
    {
     "data": {
      "image/png": "[encoded data removed]",
      "text/plain": [
       "<Figure size 576x576 with 1 Axes>"
      ]
     },
     "metadata": {
      "needs_background": "light"
     },
     "output_type": "display_data"
    }
   ],
   "source": [
    "Xcen, _, _, P = pca(X, 1, method=\"EVD\")\n",
    "_, Y, _, _ = pca(X, 1, method=\"SVD\")\n",
    "Xhat = np.matmul(P, Y)\n",
    "\n",
    "\n",
    "# Plot\n",
    "plt.figure(figsize=(8,8))\n",
    "plt.axis('equal')\n",
    "plt.scatter(Xcen[0], Xcen[1])\n",
    "plt.scatter(Xhat[0], Xhat[1], color='red')"
   ]
  },
  {
   "cell_type": "code",
   "execution_count": 8,
   "metadata": {},
   "outputs": [
    {
     "name": "stdout",
     "output_type": "stream",
     "text": [
      "Covariance matrix done\n"
     ]
    },
    {
     "ename": "MemoryError",
     "evalue": "",
     "output_type": "error",
     "traceback": [
      "\u001b[0;31m---------------------------------------------------------------------------\u001b[0m",
      "\u001b[0;31mMemoryError\u001b[0m                               Traceback (most recent call last)",
      "\u001b[0;32m<ipython-input-8-54ef09cde4b5>\u001b[0m in \u001b[0;36m<module>\u001b[0;34m()\u001b[0m\n\u001b[1;32m     17\u001b[0m \u001b[0;34m\u001b[0m\u001b[0m\n\u001b[1;32m     18\u001b[0m \u001b[0;31m# PCA\u001b[0m\u001b[0;34m\u001b[0m\u001b[0;34m\u001b[0m\u001b[0m\n\u001b[0;32m---> 19\u001b[0;31m \u001b[0mXcen\u001b[0m\u001b[0;34m,\u001b[0m \u001b[0mY\u001b[0m\u001b[0;34m,\u001b[0m \u001b[0mXhat\u001b[0m\u001b[0;34m,\u001b[0m \u001b[0mP\u001b[0m \u001b[0;34m=\u001b[0m \u001b[0mpca\u001b[0m\u001b[0;34m(\u001b[0m\u001b[0mX\u001b[0m\u001b[0;34m,\u001b[0m \u001b[0;36m100\u001b[0m\u001b[0;34m,\u001b[0m \u001b[0mmethod\u001b[0m\u001b[0;34m=\u001b[0m\u001b[0;34m\"EVD\"\u001b[0m\u001b[0;34m)\u001b[0m\u001b[0;34m\u001b[0m\u001b[0m\n\u001b[0m",
      "\u001b[0;32m<ipython-input-2-4a47e1272917>\u001b[0m in \u001b[0;36mpca\u001b[0;34m(X, k, method)\u001b[0m\n\u001b[1;32m     13\u001b[0m         \u001b[0mC\u001b[0m \u001b[0;34m=\u001b[0m \u001b[0;36m1\u001b[0m\u001b[0;34m/\u001b[0m\u001b[0;34m(\u001b[0m\u001b[0mn\u001b[0m\u001b[0;34m-\u001b[0m\u001b[0;36m1\u001b[0m\u001b[0;34m)\u001b[0m \u001b[0;34m*\u001b[0m \u001b[0mnp\u001b[0m\u001b[0;34m.\u001b[0m\u001b[0mmatmul\u001b[0m\u001b[0;34m(\u001b[0m\u001b[0mX\u001b[0m\u001b[0;34m,\u001b[0m \u001b[0mX\u001b[0m\u001b[0;34m.\u001b[0m\u001b[0mT\u001b[0m\u001b[0;34m)\u001b[0m    \u001b[0;31m#covariance matrix\u001b[0m\u001b[0;34m\u001b[0m\u001b[0m\n\u001b[1;32m     14\u001b[0m         \u001b[0mprint\u001b[0m\u001b[0;34m(\u001b[0m\u001b[0;34m\"Covariance matrix done\"\u001b[0m\u001b[0;34m)\u001b[0m\u001b[0;34m\u001b[0m\u001b[0m\n\u001b[0;32m---> 15\u001b[0;31m         \u001b[0me\u001b[0m\u001b[0;34m,\u001b[0m \u001b[0mU\u001b[0m \u001b[0;34m=\u001b[0m \u001b[0mnp\u001b[0m\u001b[0;34m.\u001b[0m\u001b[0mlinalg\u001b[0m\u001b[0;34m.\u001b[0m\u001b[0meig\u001b[0m\u001b[0;34m(\u001b[0m\u001b[0mC\u001b[0m\u001b[0;34m)\u001b[0m    \u001b[0;31m#eigen value/vectors of C\u001b[0m\u001b[0;34m\u001b[0m\u001b[0m\n\u001b[0m\u001b[1;32m     16\u001b[0m         \u001b[0mprint\u001b[0m\u001b[0;34m(\u001b[0m\u001b[0;34m\"Eigen vectors done\"\u001b[0m\u001b[0;34m)\u001b[0m\u001b[0;34m\u001b[0m\u001b[0m\n\u001b[1;32m     17\u001b[0m         \u001b[0midx\u001b[0m \u001b[0;34m=\u001b[0m \u001b[0me\u001b[0m\u001b[0;34m.\u001b[0m\u001b[0margsort\u001b[0m\u001b[0;34m(\u001b[0m\u001b[0;34m)\u001b[0m\u001b[0;34m[\u001b[0m\u001b[0;34m:\u001b[0m\u001b[0;34m:\u001b[0m\u001b[0;34m-\u001b[0m\u001b[0;36m1\u001b[0m\u001b[0;34m]\u001b[0m\u001b[0;34m\u001b[0m\u001b[0m\n",
      "\u001b[0;32m/usr/local/lib64/python3.6/site-packages/numpy/linalg/linalg.py\u001b[0m in \u001b[0;36meig\u001b[0;34m(a)\u001b[0m\n\u001b[1;32m   1266\u001b[0m         _raise_linalgerror_eigenvalues_nonconvergence)\n\u001b[1;32m   1267\u001b[0m     \u001b[0msignature\u001b[0m \u001b[0;34m=\u001b[0m \u001b[0;34m'D->DD'\u001b[0m \u001b[0;32mif\u001b[0m \u001b[0misComplexType\u001b[0m\u001b[0;34m(\u001b[0m\u001b[0mt\u001b[0m\u001b[0;34m)\u001b[0m \u001b[0;32melse\u001b[0m \u001b[0;34m'd->DD'\u001b[0m\u001b[0;34m\u001b[0m\u001b[0m\n\u001b[0;32m-> 1268\u001b[0;31m     \u001b[0mw\u001b[0m\u001b[0;34m,\u001b[0m \u001b[0mvt\u001b[0m \u001b[0;34m=\u001b[0m \u001b[0m_umath_linalg\u001b[0m\u001b[0;34m.\u001b[0m\u001b[0meig\u001b[0m\u001b[0;34m(\u001b[0m\u001b[0ma\u001b[0m\u001b[0;34m,\u001b[0m \u001b[0msignature\u001b[0m\u001b[0;34m=\u001b[0m\u001b[0msignature\u001b[0m\u001b[0;34m,\u001b[0m \u001b[0mextobj\u001b[0m\u001b[0;34m=\u001b[0m\u001b[0mextobj\u001b[0m\u001b[0;34m)\u001b[0m\u001b[0;34m\u001b[0m\u001b[0m\n\u001b[0m\u001b[1;32m   1269\u001b[0m \u001b[0;34m\u001b[0m\u001b[0m\n\u001b[1;32m   1270\u001b[0m     \u001b[0;32mif\u001b[0m \u001b[0;32mnot\u001b[0m \u001b[0misComplexType\u001b[0m\u001b[0;34m(\u001b[0m\u001b[0mt\u001b[0m\u001b[0;34m)\u001b[0m \u001b[0;32mand\u001b[0m \u001b[0mall\u001b[0m\u001b[0;34m(\u001b[0m\u001b[0mw\u001b[0m\u001b[0;34m.\u001b[0m\u001b[0mimag\u001b[0m \u001b[0;34m==\u001b[0m \u001b[0;36m0.0\u001b[0m\u001b[0;34m)\u001b[0m\u001b[0;34m:\u001b[0m\u001b[0;34m\u001b[0m\u001b[0m\n",
      "\u001b[0;31mMemoryError\u001b[0m: "
     ]
    }
   ],
   "source": [
    "from PIL import Image\n",
    "\n",
    "PREFIX = \"../databases/yaleFaces/resize/\"\n",
    "FILENAME = \"yaleB%s_P00A+005E-10.pgm\"\n",
    "imgIdx = ['0'+str(n) if n < 10 else str(n) for n in range(1,40)]\n",
    "imgIdx.remove('14')\n",
    "\n",
    "# Read faces as input\n",
    "HEIGHT = 192; WIDTH = 168\n",
    "X = []\n",
    "for idx in imgIdx :\n",
    "    img = Image.open(PREFIX + FILENAME%(idx))\n",
    "    img = np.array(img)\n",
    "    xi = img.reshape(HEIGHT*WIDTH, -1)\n",
    "    X.append(xi)\n",
    "X = np.concatenate(tuple(X), axis=1)\n",
    "\n",
    "# PCA\n",
    "Xcen, Y, Xhat, P = pca(X, 100, method=\"EVD\")"
   ]
  },
  {
   "cell_type": "code",
   "execution_count": null,
   "metadata": {},
   "outputs": [],
   "source": [
    "# Plot\n",
    "for i in range(100) :    #plot eigen faces\n",
    "    pi = list(P[:,i].T)\n",
    "    print(pi)\n",
    "    pi = [math.floor(pix) for pix in pi]\n",
    "    pi = np.array(pi).reshape(HEIGHT,-1)\n",
    "    if i < 10 :\n",
    "        plt.imshow(pi, cmap='gray', vmin=0, vmax=255)\n",
    "    imgTmp = Image.fromarray(pi)\n",
    "    imgTmp.save('eigen_face_'+('0'+str(i) if i < 10 else str(i))+'.pgm')\n",
    "print(\"Exporting eigen faces done\")"
   ]
  },
  {
   "cell_type": "code",
   "execution_count": 9,
   "metadata": {},
   "outputs": [],
   "source": [
    "# Scaling images DO NOT RUN AGAIN\n",
    "\n",
    "from PIL import Image\n",
    "\n",
    "PREFIX = \"../databases/yaleFaces/\"\n",
    "FILENAME = \"yaleB%s_P00A+005E-10.pgm\"\n",
    "imgIdx = ['0'+str(n) if n < 10 else str(n) for n in range(1,40)]\n",
    "imgIdx.remove('14')\n",
    "\n",
    "# Read faces as input\n",
    "HEIGHT = 192; WIDTH = 168\n",
    "X = []\n",
    "for idx in imgIdx :\n",
    "    img = Image.open(PREFIX + FILENAME%(idx))\n",
    "    img.resize((WIDTH//4, HEIGHT//4))\n",
    "    img.save(PREFIX+'resize/'+FILENAME%(idx))"
   ]
  }
 ],
 "metadata": {
  "kernelspec": {
   "display_name": "Python 3",
   "language": "python",
   "name": "python3"
  },
  "language_info": {
   "codemirror_mode": {
    "name": "ipython",
    "version": 3
   },
   "file_extension": ".py",
   "mimetype": "text/x-python",
   "name": "python",
   "nbconvert_exporter": "python",
   "pygments_lexer": "ipython3",
   "version": "3.6.6"
  }
 },
 "nbformat": 4,
 "nbformat_minor": 2
}
