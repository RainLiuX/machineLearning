{
 "cells": [
  {
   "cell_type": "code",
   "execution_count": 5,
   "metadata": {},
   "outputs": [],
   "source": [
    "import numpy as np\n",
    "import math\n",
    "\n",
    "def pca(X, k, method=\"EVD\") :\n",
    "    # Centralize\n",
    "    X = np.array(X)\n",
    "    Xmean = np.mean(X, axis=1)\n",
    "    X = X - Xmean.T[:,np.newaxis]\n",
    "\n",
    "    n = X.shape[1]\n",
    "    d = X.shape[0]\n",
    "    if method == 'EVD' :\n",
    "        C = 1/(n-1) * np.matmul(X, X.T)    #covariance matrix\n",
    "        print(\"Covariance matrix done\")\n",
    "        e, U = np.linalg.eig(C)    #eigen value/vectors of C\n",
    "        print(\"Eigen vectors done\")\n",
    "        idx = e.argsort()[::-1]\n",
    "        U = U[:,idx[:k]].real    #sort eigen vectors by eig values\n",
    "        Y = np.matmul(U.T, X)    #compress by Y = U_dxk^T X\n",
    "        Xhat = np.matmul(U, Y)    #remap by Xhat = U_dxk Y\n",
    "        return X, Y, Xhat, U\n",
    "    elif method == 'SVD' :\n",
    "        D = 1/(d-1) * np.matmul(X.T, X)    #dot product matrix\n",
    "        er, V = np.linalg.eig(D)\n",
    "        idxr = er.argsort()[::-1]\n",
    "        V = V[:,idxr[:k]].real; er = er[idxr[:k]]    #right eigen matrix\n",
    "        S = np.diag([math.sqrt(abs(e)) for e in er])    #square root of eig values\n",
    "        Y = np.matmul(S, -V.T)    #compress by Y = S_kxk V_nxk^T\n",
    "        #C = 1/(m-1) * np.matmul(X, X.T)\n",
    "        #el, U = np.linalg.eig(C)\n",
    "        #idxl = el.argsort()[::-1]\n",
    "        #U = U[:,idx]\n",
    "        #Xhat = np.matmul(U[:,:D], Y)\n",
    "        return X, Y, None, None"
   ]
  },
  {
   "cell_type": "code",
   "execution_count": 6,
   "metadata": {},
   "outputs": [],
   "source": [
    "import numpy as np\n",
    "from matplotlib import pyplot as plt\n",
    "import math\n",
    "\n",
    "% matplotlib inline\n",
    "\n",
    "sigmas = [10, 2]\n",
    "theta = math.pi / 3\n",
    "d, m = 2, 10\n",
    "\n",
    "X = []\n",
    "for i in range(d) :\n",
    "    X.append(np.random.normal(0, sigmas[i], m))\n",
    "\n",
    "X = [ [ dim[i] for dim in X ] for i in range(m) ]\n",
    "X = [ [math.cos(theta)*ele[0]-math.sin(theta)*ele[1], math.sin(theta)*ele[0]+math.cos(theta)*ele[1]] for ele in X ]\n",
    "X = [ [ row[i] for row in X ] for i in range(d) ]"
   ]
  },
  {
   "cell_type": "code",
   "execution_count": 7,
   "metadata": {},
   "outputs": [
    {
     "data": {
      "text/plain": [
       "<matplotlib.collections.PathCollection at 0x7f403720bcf8>"
      ]
     },
     "execution_count": 7,
     "metadata": {},
     "output_type": "execute_result"
    },
    {
     "data": {
      "image/png": "[encoded data removed]",
      "text/plain": [
       "<Figure size 576x576 with 1 Axes>"
      ]
     },
     "metadata": {
      "needs_background": "light"
     },
     "output_type": "display_data"
    }
   ],
   "source": [
    "Xcen, _, _, P = pca(X, 1, method=\"EVD\")\n",
    "_, Y, _, _ = pca(X, 1, method=\"SVD\")\n",
    "Xhat = np.matmul(P, Y)\n",
    "\n",
    "\n",
    "# Plot\n",
    "plt.figure(figsize=(8,8))\n",
    "plt.axis('equal')\n",
    "plt.scatter(Xcen[0], Xcen[1])\n",
    "plt.scatter(Xhat[0], Xhat[1], color='red')"
   ]
  },
  {
   "cell_type": "code",
   "execution_count": null,
   "metadata": {},
   "outputs": [],
   "source": [
    "from PIL import Image\n",
    "\n",
    "PREFIX = \"../databases/yaleFaces/resize/\"\n",
    "FILENAME = \"yaleB%s_P00A+005E-10.pgm\"\n",
    "imgIdx = ['0'+str(n) if n < 10 else str(n) for n in range(1,40)]\n",
    "imgIdx.remove('14')\n",
    "\n",
    "# Read faces as input\n",
    "HEIGHT = 192; WIDTH = 168\n",
    "X = []\n",
    "for idx in imgIdx :\n",
    "    img = Image.open(PREFIX + FILENAME%(idx))\n",
    "    img = np.array(img)\n",
    "    xi = img.reshape(HEIGHT*WIDTH, -1)\n",
    "    X.append(xi)\n",
    "X = np.concatenate(tuple(X), axis=1)\n",
    "\n",
    "# PCA\n",
    "Xcen, Y, Xhat, P = pca(X, 100, method=\"EVD\")"
   ]
  },
  {
   "cell_type": "code",
   "execution_count": null,
   "metadata": {},
   "outputs": [],
   "source": [
    "# Plot\n",
    "for i in range(100) :    #plot eigen faces\n",
    "    pi = list(P[:,i].T)\n",
    "    print(pi)\n",
    "    pi = [math.floor(pix) for pix in pi]\n",
    "    pi = np.array(pi).reshape(HEIGHT,-1)\n",
    "    if i < 10 :\n",
    "        plt.imshow(pi, cmap='gray', vmin=0, vmax=255)\n",
    "    imgTmp = Image.fromarray(pi)\n",
    "    imgTmp.save('eigen_face_'+('0'+str(i) if i < 10 else str(i))+'.pgm')\n",
    "print(\"Exporting eigen faces done\")"
   ]
  },
  {
   "cell_type": "code",
   "execution_count": 2,
   "metadata": {},
   "outputs": [],
   "source": [
    "# Scaling images DO NOT RUN AGAIN\n",
    "\n",
    "from PIL import Image\n",
    "\n",
    "PREFIX = \"../databases/yaleFaces/\"\n",
    "FILENAME = \"yaleB%s_P00A+005E-10.pgm\"\n",
    "imgIdx = ['0'+str(n) if n < 10 else str(n) for n in range(1,40)]\n",
    "imgIdx.remove('14')\n",
    "\n",
    "# Read faces as input\n",
    "HEIGHT = 192; WIDTH = 168\n",
    "X = []\n",
    "for idx in imgIdx :\n",
    "    img = Image.open(PREFIX + FILENAME%(idx))\n",
    "    img.resize((WIDTH//2, HEIGHT//2))\n",
    "    img.save(PREFIX+'resize/'+FILENAME%(idx))"
   ]
  }
 ],
 "metadata": {
  "kernelspec": {
   "display_name": "Python 3",
   "language": "python",
   "name": "python3"
  },
  "language_info": {
   "codemirror_mode": {
    "name": "ipython",
    "version": 3
   },
   "file_extension": ".py",
   "mimetype": "text/x-python",
   "name": "python",
   "nbconvert_exporter": "python",
   "pygments_lexer": "ipython3",
   "version": "3.6.6"
  }
 },
 "nbformat": 4,
 "nbformat_minor": 2
}
