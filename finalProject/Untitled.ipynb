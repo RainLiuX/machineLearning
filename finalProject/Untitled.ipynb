{
 "cells": [
  {
   "cell_type": "code",
   "execution_count": 23,
   "metadata": {},
   "outputs": [
    {
     "name": "stdout",
     "output_type": "stream",
     "text": [
      "[('The', 'DT'), ('jury', 'NN'), ('believes', 'VBZ'), ('welfare', 'NN')]\n"
     ]
    }
   ],
   "source": [
    "import nltk\n",
    "from nltk.corpus import brown\n",
    "from nltk.corpus import stopwords\n",
    "\n",
    "sentence0 = '''\n",
    "Do not go gentle into that good night. Old age should burn and rave at close of day.\n",
    "Rage, rage against the dying of the light.\n",
    "'''\n",
    "sentence = 'The jury believes welfare'\n",
    "\n",
    "words = nltk.word_tokenize(sentence)\n",
    "stops = set(stopwords.words(\"english\"))\n",
    "words = [ word for word in words if word not in stops ]\n",
    "taggedWords = nltk.pos_tag(words)\n",
    "print(taggedWords)"
   ]
  },
  {
   "cell_type": "code",
   "execution_count": 12,
   "metadata": {},
   "outputs": [
    {
     "name": "stdout",
     "output_type": "stream",
     "text": [
      "The Fulton County Grand Jury said Friday an investigation of Atlanta's recent primary election produced `` no evidence '' that any irregularities took place . The jury further said in term-end presentments that the City Executive Committee , which had over-all charge of the election , `` deserves the praise and thanks of the City of Atlanta '' for the manner in which the election was conducted . The September-October term jury had been charged by Fulton Superior Court Judge Durwood Pye to investigate reports of possible `` irregularities '' in the hard-fought primary which was won by Mayor-nominate Ivan\n"
     ]
    }
   ],
   "source": [
    "dataSet = nltk.corpus.brown.tagged_words()\n",
    "stc = [ele[0] for ele in dataSet[:100]]\n",
    "print(' '.join(stc))"
   ]
  }
 ],
 "metadata": {
  "kernelspec": {
   "display_name": "Python 3",
   "language": "python",
   "name": "python3"
  },
  "language_info": {
   "codemirror_mode": {
    "name": "ipython",
    "version": 3
   },
   "file_extension": ".py",
   "mimetype": "text/x-python",
   "name": "python",
   "nbconvert_exporter": "python",
   "pygments_lexer": "ipython3",
   "version": "3.6.6"
  }
 },
 "nbformat": 4,
 "nbformat_minor": 2
}
